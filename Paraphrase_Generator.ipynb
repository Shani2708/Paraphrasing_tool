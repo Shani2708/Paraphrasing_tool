{
 "cells": [
  {
   "cell_type": "markdown",
   "id": "ec70f321",
   "metadata": {},
   "source": [
    "# Paraphrasing Tool"
   ]
  },
  {
   "cell_type": "code",
   "execution_count": null,
   "id": "a852e200",
   "metadata": {},
   "outputs": [],
   "source": [
    "import nltk\n",
    "from nltk.corpus import wordnet\n",
    "\n",
    "# Download NLTK data\n",
    "nltk.download('punkt')\n",
    "nltk.download('wordnet')\n",
    "nltk.download('omw')\n",
    "\n",
    "# Function to get synonyms for a word using WordNet\n",
    "def get_synonyms(word):\n",
    "    synonyms = set()\n",
    "    for syn in wordnet.synsets(word):\n",
    "        for lemma in syn.lemmas():\n",
    "            synonyms.add(lemma.name().replace('_', ' '))\n",
    "    return list(synonyms)\n",
    "\n",
    "# Function to paraphrase a sentence\n",
    "def paraphrase(sentence):\n",
    "    # Tokenize the sentence into words\n",
    "    words = nltk.word_tokenize(sentence)\n",
    "    \n",
    "    # Paraphrase each word and build the paraphrased sentence\n",
    "    paraphrased_sentence = []\n",
    "    for word in words:\n",
    "        synonyms = get_synonyms(word)\n",
    "        paraphrased_word = word\n",
    "        if synonyms:\n",
    "            paraphrased_word = synonyms[0]  # Choose the first synonym as a simple approach\n",
    "        paraphrased_sentence.append(paraphrased_word)\n",
    "    \n",
    "    return ' '.join(paraphrased_sentence)\n",
    "\n",
    "# Example usage\n",
    "if __name__ == \"__main__\":\n",
    "    input_sentence = \"The quick brown fox jumps over the lazy dog.\"\n",
    "    paraphrased_sentence = paraphrase(input_sentence)\n",
    "    print(\"Original sentence:\", input_sentence)\n",
    "    print(\"Paraphrased sentence:\", paraphrased_sentence)"
   ]
  }
 ],
 "metadata": {
  "kernelspec": {
   "display_name": "Python 3 (ipykernel)",
   "language": "python",
   "name": "python3"
  },
  "language_info": {
   "codemirror_mode": {
    "name": "ipython",
    "version": 3
   },
   "file_extension": ".py",
   "mimetype": "text/x-python",
   "name": "python",
   "nbconvert_exporter": "python",
   "pygments_lexer": "ipython3",
   "version": "3.10.9"
  }
 },
 "nbformat": 4,
 "nbformat_minor": 5
}
